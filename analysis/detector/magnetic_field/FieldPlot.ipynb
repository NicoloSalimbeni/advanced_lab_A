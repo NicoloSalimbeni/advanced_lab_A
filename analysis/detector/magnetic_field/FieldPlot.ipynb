{
 "cells": [
  {
   "cell_type": "code",
   "execution_count": 3,
   "id": "fab88185",
   "metadata": {},
   "outputs": [],
   "source": [
    "import pandas as pd\n",
    "import matplotlib.pyplot as plt\n",
    "\n",
    "#import values\n",
    "filename=\"data/layer_bottom_B.txt\"\n",
    "\n",
    "with open(filename, 'r') as file:\n",
    "    lines = [line.strip() for line in file if not line.startswith('#')]\n",
    "\n",
    "# Initialize empty lists for each column\n",
    "X = []\n",
    "Z = []\n",
    "B = []\n",
    "\n",
    "# Iterate through each line and split the values\n",
    "for line in lines:\n",
    "    # Split the line into three values using space as the delimiter\n",
    "    values = line.split()\n",
    "    \n",
    "    # Convert each value to the appropriate data type (e.g., float)\n",
    "    val1, _,_,val2, val3 = map(float, values)\n",
    "    \n",
    "    # Append the values to the respective columns\n",
    "    X.append(val1)\n",
    "    Z.append(val3)\n",
    "    B.append(val2)\n",
    "\n",
    "df = pd.DataFrame({\"x\":X,\"b\":B,\"z\":Z})\n",
    "\n",
    "# Creazione del grafico bidimensionale\n",
    "# Creazione del grafico tridimensionale\n",
    "fig = plt.figure(figsize=(10, 10))\n",
    "ax = fig.add_subplot(111, projection='3d')\n",
    "\n",
    "ax.plot_trisurf(df['x'], df['z'], df['b'], cmap='viridis')\n",
    "\n",
    "ax.set_xlabel('X')\n",
    "ax.set_ylabel('Z')\n",
    "\n",
    "plt.show()"
   ]
  },
  {
   "cell_type": "code",
   "execution_count": null,
   "id": "988a2f1f",
   "metadata": {},
   "outputs": [],
   "source": []
  }
 ],
 "metadata": {
  "kernelspec": {
   "display_name": "Python 3 (ipykernel)",
   "language": "python",
   "name": "python3"
  },
  "language_info": {
   "codemirror_mode": {
    "name": "ipython",
    "version": 3
   },
   "file_extension": ".py",
   "mimetype": "text/x-python",
   "name": "python",
   "nbconvert_exporter": "python",
   "pygments_lexer": "ipython3",
   "version": "3.11.6"
  }
 },
 "nbformat": 4,
 "nbformat_minor": 5
}
